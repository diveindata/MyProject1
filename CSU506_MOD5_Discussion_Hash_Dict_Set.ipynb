{
  "nbformat": 4,
  "nbformat_minor": 0,
  "metadata": {
    "colab": {
      "provenance": [],
      "authorship_tag": "ABX9TyNE6UhDD+QmSY7QHCsgeTCR"
    },
    "kernelspec": {
      "name": "python3",
      "display_name": "Python 3"
    },
    "language_info": {
      "name": "python"
    }
  },
  "cells": [
    {
      "cell_type": "code",
      "execution_count": 2,
      "metadata": {
        "colab": {
          "base_uri": "https://localhost:8080/"
        },
        "id": "6G5AFjuIKKYE",
        "outputId": "740ffab5-08fd-4111-cee2-db2b7cab0e39"
      },
      "outputs": [
        {
          "output_type": "stream",
          "name": "stdout",
          "text": [
            "Hash Table Data: \n",
            "Key: 12345, Value: John Smith\n",
            "Key: 67890, Value: Jane Doe\n",
            "Key: 54321, Value: Alice Johnson\n",
            "Key: 98765, Value: Bob Williams\n",
            "Key: 24680, Value: Eve Brown\n",
            "Key: 13579, Value: Charlie Davis\n",
            "Key: 11223, Value: Grace Wilson\n",
            "Key: 44556, Value: David Lee\n",
            "Key: 99999, Value: Olivia Martinez\n",
            "Key: 77777, Value: Sophia Anderson\n",
            "\n",
            "Dictionary:\n",
            "{(12345, 'John Smith'), (44556, 'David Lee'), (24680, 'Eve Brown'), (77777, 'Sophia Anderson'), (54321, 'Alice Johnson'), (11223, 'Grace Wilson'), (99999, 'Olivia Martinez'), (13579, 'Charlie Davis'), (98765, 'Bob Williams'), (67890, 'Jane Doe')}\n",
            "\n",
            "Set of student ID: \n",
            "{24680, 13579, 44556, 98765, 54321, 67890, 77777, 11223, 12345, 99999}\n"
          ]
        }
      ],
      "source": [
        "hash_data = {} # Create an empty hash table (dictionary)\n",
        "\n",
        "print(\"Hash Table Data: \")\n",
        "# Insert key-value pairs\n",
        "hash_data[12345] = \"John Smith\"\n",
        "hash_data[67890] = \"Jane Doe\"\n",
        "hash_data[54321] = \"Alice Johnson\"\n",
        "hash_data[98765] = \"Bob Williams\"\n",
        "hash_data[24680] = \"Eve Brown\"\n",
        "hash_data[13579] = \"Charlie Davis\"\n",
        "hash_data[11223] = \"Grace Wilson\"\n",
        "hash_data[44556] = \"David Lee\"\n",
        "hash_data[99999] = \"Olivia Martinez\"\n",
        "hash_data[77777] = \"Sophia Anderson\"\n",
        "\n",
        "for key, value in hash_data.items():#iterate and print the hash table\n",
        "    print(f\"Key: {key}, Value: {hash_data.get(key)}\")\n",
        "\n",
        "print(\"\\nDictionary:\")\n",
        "#Dictionary key-value pairs\n",
        "\n",
        "student = {\n",
        "(12345, \"John Smith\"),\n",
        "(67890, \"Jane Doe\"),\n",
        "(54321, \"Alice Johnson\"),\n",
        "(98765, \"Bob Williams\"),\n",
        "(24680, \"Eve Brown\"),\n",
        "(13579, \"Charlie Davis\"),\n",
        "(11223, \"Grace Wilson\"),\n",
        "(44556, \"David Lee\"),\n",
        "(99999, \"Olivia Martinez\"),\n",
        "(77777, \"Sophia Anderson\")}\n",
        "print(student)\n",
        "\n",
        "print(\"\\nSet of student ID: \")\n",
        "id_set = { 12345, 67890, 54321, 98765, 24680, 13579, 11223, 44556, 99999, 77777}\n",
        "print(id_set)\n"
      ]
    }
  ]
}